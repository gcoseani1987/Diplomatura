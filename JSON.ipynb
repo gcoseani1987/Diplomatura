{
 "cells": [
  {
   "cell_type": "code",
   "execution_count": 2,
   "metadata": {},
   "outputs": [],
   "source": [
    "import pandas as pd\n",
    "import numpy as np\n",
    "import seaborn as sns\n",
    "import matplotlib.pyplot as plt"
   ]
  },
  {
   "cell_type": "code",
   "execution_count": 7,
   "metadata": {},
   "outputs": [],
   "source": [
    "df = pd.read_json(r'input\\pasos.json')"
   ]
  },
  {
   "cell_type": "code",
   "execution_count": 33,
   "metadata": {},
   "outputs": [
    {
     "data": {
      "text/html": [
       "<div>\n",
       "<style scoped>\n",
       "    .dataframe tbody tr th:only-of-type {\n",
       "        vertical-align: middle;\n",
       "    }\n",
       "\n",
       "    .dataframe tbody tr th {\n",
       "        vertical-align: top;\n",
       "    }\n",
       "\n",
       "    .dataframe thead th {\n",
       "        text-align: right;\n",
       "    }\n",
       "</style>\n",
       "<table border=\"1\" class=\"dataframe\">\n",
       "  <thead>\n",
       "    <tr style=\"text-align: right;\">\n",
       "      <th></th>\n",
       "      <th>province</th>\n",
       "      <th>location</th>\n",
       "      <th>name</th>\n",
       "    </tr>\n",
       "  </thead>\n",
       "  <tbody>\n",
       "    <tr>\n",
       "      <th>15</th>\n",
       "      <td>AEROPUERTO INTERNACIONAL PILOTO CIVIL NORBERTO...</td>\n",
       "      <td>[-51.6117879, -69.3085038]</td>\n",
       "      <td>AERO RIO GALLEGOS</td>\n",
       "    </tr>\n",
       "    <tr>\n",
       "      <th>97</th>\n",
       "      <td>Buenos Aires</td>\n",
       "      <td>[-34.1554434, -58.9570576]</td>\n",
       "      <td>PUERTO CAMPANA</td>\n",
       "    </tr>\n",
       "    <tr>\n",
       "      <th>96</th>\n",
       "      <td>Buenos Aires</td>\n",
       "      <td>[-34.3402525, -58.7849434]</td>\n",
       "      <td>PUERTO ESCOBAR</td>\n",
       "    </tr>\n",
       "    <tr>\n",
       "      <th>95</th>\n",
       "      <td>Buenos Aires</td>\n",
       "      <td>[-34.425087, -58.5796585]</td>\n",
       "      <td>PUERTO TIGRE</td>\n",
       "    </tr>\n",
       "    <tr>\n",
       "      <th>94</th>\n",
       "      <td>Buenos Aires</td>\n",
       "      <td>[-34.4430618, -58.5579643]</td>\n",
       "      <td>PUERTO SAN FERNANDO</td>\n",
       "    </tr>\n",
       "    <tr>\n",
       "      <th>...</th>\n",
       "      <td>...</td>\n",
       "      <td>...</td>\n",
       "      <td>...</td>\n",
       "    </tr>\n",
       "    <tr>\n",
       "      <th>1</th>\n",
       "      <td>Tierra del Fuego</td>\n",
       "      <td>[-54.8249379, -68.3258626]</td>\n",
       "      <td>AERO PUBLICO DE USHUAIA</td>\n",
       "    </tr>\n",
       "    <tr>\n",
       "      <th>9</th>\n",
       "      <td>Tierra del Fuego</td>\n",
       "      <td>[-53.7860374, -67.7002243]</td>\n",
       "      <td>PUERTO RIO GRANDE</td>\n",
       "    </tr>\n",
       "    <tr>\n",
       "      <th>0</th>\n",
       "      <td>Tierra del Fuego</td>\n",
       "      <td>[-54.832543, -68.3712885]</td>\n",
       "      <td>SAN SEBASTIAN  ( USHUAIA )</td>\n",
       "    </tr>\n",
       "    <tr>\n",
       "      <th>158</th>\n",
       "      <td>Tucuman</td>\n",
       "      <td>[-26.8358881, -65.1105502]</td>\n",
       "      <td>AEROPUERTO INTERNACIONAL TENIENTE GENERAL BENJ...</td>\n",
       "    </tr>\n",
       "    <tr>\n",
       "      <th>159</th>\n",
       "      <td>Tucuman</td>\n",
       "      <td>[-26.8358881, -65.1105502]</td>\n",
       "      <td>AEROPUERTO INTERNACIONAL TENIENTE GENERAL BENJ...</td>\n",
       "    </tr>\n",
       "  </tbody>\n",
       "</table>\n",
       "<p>252 rows × 3 columns</p>\n",
       "</div>"
      ],
      "text/plain": [
       "                                              province  \\\n",
       "15   AEROPUERTO INTERNACIONAL PILOTO CIVIL NORBERTO...   \n",
       "97                                        Buenos Aires   \n",
       "96                                        Buenos Aires   \n",
       "95                                        Buenos Aires   \n",
       "94                                        Buenos Aires   \n",
       "..                                                 ...   \n",
       "1                                     Tierra del Fuego   \n",
       "9                                     Tierra del Fuego   \n",
       "0                                     Tierra del Fuego   \n",
       "158                                            Tucuman   \n",
       "159                                            Tucuman   \n",
       "\n",
       "                       location  \\\n",
       "15   [-51.6117879, -69.3085038]   \n",
       "97   [-34.1554434, -58.9570576]   \n",
       "96   [-34.3402525, -58.7849434]   \n",
       "95    [-34.425087, -58.5796585]   \n",
       "94   [-34.4430618, -58.5579643]   \n",
       "..                          ...   \n",
       "1    [-54.8249379, -68.3258626]   \n",
       "9    [-53.7860374, -67.7002243]   \n",
       "0     [-54.832543, -68.3712885]   \n",
       "158  [-26.8358881, -65.1105502]   \n",
       "159  [-26.8358881, -65.1105502]   \n",
       "\n",
       "                                                  name  \n",
       "15                                   AERO RIO GALLEGOS  \n",
       "97                                      PUERTO CAMPANA  \n",
       "96                                      PUERTO ESCOBAR  \n",
       "95                                        PUERTO TIGRE  \n",
       "94                                 PUERTO SAN FERNANDO  \n",
       "..                                                 ...  \n",
       "1                              AERO PUBLICO DE USHUAIA  \n",
       "9                                    PUERTO RIO GRANDE  \n",
       "0                           SAN SEBASTIAN  ( USHUAIA )  \n",
       "158  AEROPUERTO INTERNACIONAL TENIENTE GENERAL BENJ...  \n",
       "159  AEROPUERTO INTERNACIONAL TENIENTE GENERAL BENJ...  \n",
       "\n",
       "[252 rows x 3 columns]"
      ]
     },
     "execution_count": 33,
     "metadata": {},
     "output_type": "execute_result"
    }
   ],
   "source": [
    "df.sort_values('province',ascending=True)"
   ]
  },
  {
   "cell_type": "code",
   "execution_count": 34,
   "metadata": {},
   "outputs": [],
   "source": [
    "df['province'] = np.where(df['province'] == 'Córdoba','Cordoba',df['province'])\n",
    "df['province'] = np.where(df['province'] == 'NEUQUEN','Neuquen',df['province'])\n",
    "df['province'] = np.where(df['province'] == 'AEROPUERTO INTERNACIONAL PILOTO CIVIL NORBERTO FERNANDEZ',\n",
    "                          'Santa Cruz',\n",
    "                          df['province'])"
   ]
  },
  {
   "cell_type": "code",
   "execution_count": 35,
   "metadata": {},
   "outputs": [],
   "source": [
    "dfgroup = df.groupby(['province'], as_index=False).agg({'name':'count'}).sort_values('name',ascending=False)"
   ]
  },
  {
   "cell_type": "code",
   "execution_count": 42,
   "metadata": {},
   "outputs": [
    {
     "data": {
      "image/png": "[encoded data removed]",
      "text/plain": [
       "<Figure size 432x288 with 1 Axes>"
      ]
     },
     "metadata": {
      "needs_background": "light"
     },
     "output_type": "display_data"
    }
   ],
   "source": [
    "plt.xticks(rotation = 90)\n",
    "ax = sns.barplot(x=\"province\", y=\"name\", data=dfgroup)"
   ]
  },
  {
   "cell_type": "code",
   "execution_count": null,
   "metadata": {},
   "outputs": [],
   "source": []
  }
 ],
 "metadata": {
  "kernelspec": {
   "display_name": "Python 3",
   "language": "python",
   "name": "python3"
  },
  "language_info": {
   "codemirror_mode": {
    "name": "ipython",
    "version": 3
   },
   "file_extension": ".py",
   "mimetype": "text/x-python",
   "name": "python",
   "nbconvert_exporter": "python",
   "pygments_lexer": "ipython3",
   "version": "3.7.6"
  }
 },
 "nbformat": 4,
 "nbformat_minor": 4
}
