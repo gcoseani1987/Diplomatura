{
 "cells": [
  {
   "cell_type": "code",
   "execution_count": 1,
   "metadata": {
    "executionInfo": {
     "elapsed": 2266,
     "status": "ok",
     "timestamp": 1604061388047,
     "user": {
      "displayName": "Guillermo Coseani",
      "photoUrl": "https://lh3.googleusercontent.com/a-/AOh14Gis1OjGSp95ERLGAKced8Os_gWXYY1R8wLOwfmo4w=s64",
      "userId": "14650639631907223819"
     },
     "user_tz": 180
    },
    "id": "WWwNLzS5MajI"
   },
   "outputs": [],
   "source": [
    "import pandas as pd\n",
    "import numpy as np\n",
    "import seaborn as sns\n",
    "import matplotlib.pyplot as plt\n",
    "import warnings\n",
    "warnings.filterwarnings('ignore')"
   ]
  },
  {
   "cell_type": "code",
   "execution_count": 2,
   "metadata": {
    "executionInfo": {
     "elapsed": 3256,
     "status": "ok",
     "timestamp": 1604061389248,
     "user": {
      "displayName": "Guillermo Coseani",
      "photoUrl": "https://lh3.googleusercontent.com/a-/AOh14Gis1OjGSp95ERLGAKced8Os_gWXYY1R8wLOwfmo4w=s64",
      "userId": "14650639631907223819"
     },
     "user_tz": 180
    },
    "id": "gMoHHg0eMajM"
   },
   "outputs": [],
   "source": [
    "\n",
    "# Importar algunos módulos nativos de Python\n",
    "import datetime\n",
    "\n",
    "# Importar las librerías necesarias\n",
    "import numpy as np\n",
    "import pandas as pd\n",
    "\n",
    "# Puede que nos sirvan también\n",
    "import matplotlib.pyplot as plt\n",
    "%matplotlib inline\n",
    "import scipy.stats as stats\n",
    "import seaborn as sns\n",
    "\n",
    "from sklearn.metrics import (\n",
    "    accuracy_score,\n",
    "    auc,\n",
    "    classification_report,\n",
    "    confusion_matrix,\n",
    "    f1_score,\n",
    "    mean_absolute_error,\n",
    "    mean_squared_error,\n",
    "    precision_score,\n",
    "    recall_score,\n",
    "    r2_score,\n",
    "    roc_curve\n",
    ")\n",
    "\n",
    "from sklearn.model_selection import train_test_split, GridSearchCV\n",
    "\n",
    "np.random.seed(0)  # Para mayor determinismo"
   ]
  },
  {
   "cell_type": "code",
   "execution_count": 3,
   "metadata": {
    "colab": {
     "base_uri": "https://localhost:8080/",
     "height": 73,
     "resources": {
      "http://localhost:8080/nbextensions/google.colab/files.js": {
       "data": "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",
       "headers": [
        [
         "content-type",
         "application/javascript"
        ]
       ],
       "ok": true,
       "status": 200,
       "status_text": ""
      }
     }
    },
    "executionInfo": {
     "elapsed": 266562,
     "status": "ok",
     "timestamp": 1604024881236,
     "user": {
      "displayName": "Guillermo Coseani",
      "photoUrl": "https://lh3.googleusercontent.com/a-/AOh14Gis1OjGSp95ERLGAKced8Os_gWXYY1R8wLOwfmo4w=s64",
      "userId": "14650639631907223819"
     },
     "user_tz": 180
    },
    "id": "KkfRaNuxRLzm",
    "outputId": "dc1111f6-8dfa-4e73-9300-151c6c3088f5"
   },
   "outputs": [],
   "source": [
    "df = pd.read_csv(r'data\\train.csv')"
   ]
  },
  {
   "cell_type": "code",
   "execution_count": 4,
   "metadata": {
    "colab": {
     "base_uri": "https://localhost:8080/",
     "height": 215
    },
    "executionInfo": {
     "elapsed": 780,
     "status": "ok",
     "timestamp": 1604024887603,
     "user": {
      "displayName": "Guillermo Coseani",
      "photoUrl": "https://lh3.googleusercontent.com/a-/AOh14Gis1OjGSp95ERLGAKced8Os_gWXYY1R8wLOwfmo4w=s64",
      "userId": "14650639631907223819"
     },
     "user_tz": 180
    },
    "id": "sxOyKGHzMajU",
    "outputId": "f4d935ae-28c2-4582-8d17-f553a18666b2"
   },
   "outputs": [
    {
     "name": "stdout",
     "output_type": "stream",
     "text": [
      "El número de instancias es (453411, 7)\n"
     ]
    },
    {
     "data": {
      "text/html": [
       "<div>\n",
       "<style scoped>\n",
       "    .dataframe tbody tr th:only-of-type {\n",
       "        vertical-align: middle;\n",
       "    }\n",
       "\n",
       "    .dataframe tbody tr th {\n",
       "        vertical-align: top;\n",
       "    }\n",
       "\n",
       "    .dataframe thead th {\n",
       "        text-align: right;\n",
       "    }\n",
       "</style>\n",
       "<table border=\"1\" class=\"dataframe\">\n",
       "  <thead>\n",
       "    <tr style=\"text-align: right;\">\n",
       "      <th></th>\n",
       "      <th>TripType</th>\n",
       "      <th>VisitNumber</th>\n",
       "      <th>Weekday</th>\n",
       "      <th>Upc</th>\n",
       "      <th>ScanCount</th>\n",
       "      <th>DepartmentDescription</th>\n",
       "      <th>FinelineNumber</th>\n",
       "    </tr>\n",
       "  </thead>\n",
       "  <tbody>\n",
       "    <tr>\n",
       "      <th>0</th>\n",
       "      <td>999</td>\n",
       "      <td>5</td>\n",
       "      <td>Friday</td>\n",
       "      <td>6.811315e+10</td>\n",
       "      <td>-1</td>\n",
       "      <td>FINANCIAL SERVICES</td>\n",
       "      <td>1000.0</td>\n",
       "    </tr>\n",
       "    <tr>\n",
       "      <th>1</th>\n",
       "      <td>8</td>\n",
       "      <td>9</td>\n",
       "      <td>Friday</td>\n",
       "      <td>1.070081e+09</td>\n",
       "      <td>1</td>\n",
       "      <td>IMPULSE MERCHANDISE</td>\n",
       "      <td>115.0</td>\n",
       "    </tr>\n",
       "    <tr>\n",
       "      <th>2</th>\n",
       "      <td>8</td>\n",
       "      <td>9</td>\n",
       "      <td>Friday</td>\n",
       "      <td>3.107000e+03</td>\n",
       "      <td>1</td>\n",
       "      <td>PRODUCE</td>\n",
       "      <td>103.0</td>\n",
       "    </tr>\n",
       "    <tr>\n",
       "      <th>3</th>\n",
       "      <td>8</td>\n",
       "      <td>9</td>\n",
       "      <td>Friday</td>\n",
       "      <td>4.011000e+03</td>\n",
       "      <td>1</td>\n",
       "      <td>PRODUCE</td>\n",
       "      <td>5501.0</td>\n",
       "    </tr>\n",
       "    <tr>\n",
       "      <th>4</th>\n",
       "      <td>8</td>\n",
       "      <td>10</td>\n",
       "      <td>Friday</td>\n",
       "      <td>6.414410e+09</td>\n",
       "      <td>1</td>\n",
       "      <td>DSD GROCERY</td>\n",
       "      <td>2008.0</td>\n",
       "    </tr>\n",
       "  </tbody>\n",
       "</table>\n",
       "</div>"
      ],
      "text/plain": [
       "   TripType  VisitNumber Weekday           Upc  ScanCount  \\\n",
       "0       999            5  Friday  6.811315e+10         -1   \n",
       "1         8            9  Friday  1.070081e+09          1   \n",
       "2         8            9  Friday  3.107000e+03          1   \n",
       "3         8            9  Friday  4.011000e+03          1   \n",
       "4         8           10  Friday  6.414410e+09          1   \n",
       "\n",
       "  DepartmentDescription  FinelineNumber  \n",
       "0    FINANCIAL SERVICES          1000.0  \n",
       "1   IMPULSE MERCHANDISE           115.0  \n",
       "2               PRODUCE           103.0  \n",
       "3               PRODUCE          5501.0  \n",
       "4           DSD GROCERY          2008.0  "
      ]
     },
     "execution_count": 4,
     "metadata": {},
     "output_type": "execute_result"
    }
   ],
   "source": [
    "print('El número de instancias es {}'.format(df.shape))\n",
    "df.head(5)"
   ]
  },
  {
   "cell_type": "code",
   "execution_count": 5,
   "metadata": {
    "colab": {
     "base_uri": "https://localhost:8080/"
    },
    "executionInfo": {
     "elapsed": 488,
     "status": "ok",
     "timestamp": 1604024887882,
     "user": {
      "displayName": "Guillermo Coseani",
      "photoUrl": "https://lh3.googleusercontent.com/a-/AOh14Gis1OjGSp95ERLGAKced8Os_gWXYY1R8wLOwfmo4w=s64",
      "userId": "14650639631907223819"
     },
     "user_tz": 180
    },
    "id": "8TY3yGynMajW",
    "outputId": "a509abfa-2e98-4140-e7b2-c83c4ec74118"
   },
   "outputs": [
    {
     "data": {
      "text/plain": [
       "array(['Friday', 'Saturday', 'Sunday', 'Monday', 'Tuesday', 'Wednesday',\n",
       "       'Thursday'], dtype=object)"
      ]
     },
     "execution_count": 5,
     "metadata": {},
     "output_type": "execute_result"
    }
   ],
   "source": [
    "df.Weekday.unique()"
   ]
  },
  {
   "cell_type": "code",
   "execution_count": 6,
   "metadata": {
    "colab": {
     "base_uri": "https://localhost:8080/"
    },
    "executionInfo": {
     "elapsed": 567,
     "status": "ok",
     "timestamp": 1604024888554,
     "user": {
      "displayName": "Guillermo Coseani",
      "photoUrl": "https://lh3.googleusercontent.com/a-/AOh14Gis1OjGSp95ERLGAKced8Os_gWXYY1R8wLOwfmo4w=s64",
      "userId": "14650639631907223819"
     },
     "user_tz": 180
    },
    "id": "RziInVNbMajY",
    "outputId": "2bf7bb5c-6365-445e-b3ed-1342d9c53988"
   },
   "outputs": [
    {
     "data": {
      "text/plain": [
       "array(['FINANCIAL SERVICES', 'IMPULSE MERCHANDISE', 'PRODUCE',\n",
       "       'DSD GROCERY', 'CANDY, TOBACCO, COOKIES', 'GROCERY DRY GOODS',\n",
       "       'BOYS WEAR', 'PERSONAL CARE', 'HOUSEHOLD CHEMICALS/SUPP', 'SHOES',\n",
       "       'FROZEN FOODS', 'SERVICE DELI', 'DAIRY', 'COOK AND DINE',\n",
       "       'PHARMACY OTC', 'LADIESWEAR', 'COMM BREAD', 'BAKERY',\n",
       "       'PRE PACKED DELI', 'MENS WEAR', 'HOUSEHOLD PAPER GOODS',\n",
       "       'CELEBRATION', 'AUTOMOTIVE', 'BOOKS AND MAGAZINES', 'SEAFOOD',\n",
       "       'OFFICE SUPPLIES', 'HARDWARE', 'BEAUTY',\n",
       "       'INFANT CONSUMABLE HARDLINES', 'SHEER HOSIERY',\n",
       "       'MEAT - FRESH & FROZEN', 'HORTICULTURE AND ACCESS', 'WIRELESS',\n",
       "       'HOME DECOR', 'TOYS', 'FABRICS AND CRAFTS', 'HOME MANAGEMENT',\n",
       "       'LAWN AND GARDEN', 'LADIES SOCKS', 'INFANT APPAREL',\n",
       "       'PLUS AND MATERNITY', 'JEWELRY AND SUNGLASSES', 'ELECTRONICS',\n",
       "       'GIRLS WEAR, 4-6X  AND 7-14', 'BRAS & SHAPEWEAR',\n",
       "       'PETS AND SUPPLIES', 'LIQUOR,WINE,BEER', 'PAINT AND ACCESSORIES',\n",
       "       'SLEEPWEAR/FOUNDATIONS', 'SPORTING GOODS', 'BATH AND SHOWER', nan,\n",
       "       'PHARMACY RX', 'BEDDING', 'MENSWEAR', 'OTHER DEPARTMENTS',\n",
       "       'MEDIA AND GAMING', 'OPTICAL - FRAMES', 'PLAYERS AND ELECTRONICS',\n",
       "       'ACCESSORIES', 'FURNITURE', 'OPTICAL - LENSES', 'SEASONAL',\n",
       "       'CAMERAS AND SUPPLIES', 'LARGE HOUSEHOLD GOODS',\n",
       "       'SWIMWEAR/OUTERWEAR', '1-HR PHOTO', 'CONCEPT STORES',\n",
       "       'HEALTH AND BEAUTY AIDS'], dtype=object)"
      ]
     },
     "execution_count": 6,
     "metadata": {},
     "output_type": "execute_result"
    }
   ],
   "source": [
    "df.DepartmentDescription.unique()"
   ]
  },
  {
   "cell_type": "code",
   "execution_count": 7,
   "metadata": {
    "colab": {
     "base_uri": "https://localhost:8080/"
    },
    "executionInfo": {
     "elapsed": 458,
     "status": "ok",
     "timestamp": 1604024889599,
     "user": {
      "displayName": "Guillermo Coseani",
      "photoUrl": "https://lh3.googleusercontent.com/a-/AOh14Gis1OjGSp95ERLGAKced8Os_gWXYY1R8wLOwfmo4w=s64",
      "userId": "14650639631907223819"
     },
     "user_tz": 180
    },
    "id": "WaDnpqTTMajb",
    "outputId": "cea72047-fe9a-46b8-a861-dea58b66d2e3"
   },
   "outputs": [
    {
     "name": "stdout",
     "output_type": "stream",
     "text": [
      "The unique value of the data VisitNumber    67029\n",
      "dtype: int64\n",
      "The number of the value each VisitNumber: \n",
      "72439    209\n",
      "88011    151\n",
      "9181     113\n",
      "60971    112\n",
      "65792    111\n",
      "Name: VisitNumber, dtype: int64\n"
     ]
    }
   ],
   "source": [
    "print('The unique value of the data {}'.format(df[['VisitNumber']]\n",
    "                                               .nunique()))\n",
    "print('The number of the value each VisitNumber: \\n{}'.\n",
    "      format(df['VisitNumber'].value_counts().sort_values(ascending = False).head(5)))"
   ]
  },
  {
   "cell_type": "code",
   "execution_count": 8,
   "metadata": {
    "executionInfo": {
     "elapsed": 471,
     "status": "ok",
     "timestamp": 1604024890522,
     "user": {
      "displayName": "Guillermo Coseani",
      "photoUrl": "https://lh3.googleusercontent.com/a-/AOh14Gis1OjGSp95ERLGAKced8Os_gWXYY1R8wLOwfmo4w=s64",
      "userId": "14650639631907223819"
     },
     "user_tz": 180
    },
    "id": "ienUgk8tMajd"
   },
   "outputs": [],
   "source": [
    "df = df.drop(columns={'Upc','FinelineNumber'})"
   ]
  },
  {
   "cell_type": "code",
   "execution_count": 9,
   "metadata": {
    "colab": {
     "base_uri": "https://localhost:8080/",
     "height": 197
    },
    "executionInfo": {
     "elapsed": 759,
     "status": "ok",
     "timestamp": 1604024892907,
     "user": {
      "displayName": "Guillermo Coseani",
      "photoUrl": "https://lh3.googleusercontent.com/a-/AOh14Gis1OjGSp95ERLGAKced8Os_gWXYY1R8wLOwfmo4w=s64",
      "userId": "14650639631907223819"
     },
     "user_tz": 180
    },
    "id": "f2lp4DmeMajf",
    "outputId": "f6d1209c-6774-4899-84b9-6deaaff4eec5"
   },
   "outputs": [
    {
     "data": {
      "text/html": [
       "<div>\n",
       "<style scoped>\n",
       "    .dataframe tbody tr th:only-of-type {\n",
       "        vertical-align: middle;\n",
       "    }\n",
       "\n",
       "    .dataframe tbody tr th {\n",
       "        vertical-align: top;\n",
       "    }\n",
       "\n",
       "    .dataframe thead th {\n",
       "        text-align: right;\n",
       "    }\n",
       "</style>\n",
       "<table border=\"1\" class=\"dataframe\">\n",
       "  <thead>\n",
       "    <tr style=\"text-align: right;\">\n",
       "      <th></th>\n",
       "      <th>TripType</th>\n",
       "      <th>VisitNumber</th>\n",
       "      <th>Weekday</th>\n",
       "      <th>ScanCount</th>\n",
       "      <th>DepartmentDescription</th>\n",
       "    </tr>\n",
       "  </thead>\n",
       "  <tbody>\n",
       "    <tr>\n",
       "      <th>0</th>\n",
       "      <td>999</td>\n",
       "      <td>5</td>\n",
       "      <td>Friday</td>\n",
       "      <td>-1</td>\n",
       "      <td>FINANCIAL SERVICES</td>\n",
       "    </tr>\n",
       "    <tr>\n",
       "      <th>1</th>\n",
       "      <td>8</td>\n",
       "      <td>9</td>\n",
       "      <td>Friday</td>\n",
       "      <td>1</td>\n",
       "      <td>IMPULSE MERCHANDISE</td>\n",
       "    </tr>\n",
       "    <tr>\n",
       "      <th>2</th>\n",
       "      <td>8</td>\n",
       "      <td>9</td>\n",
       "      <td>Friday</td>\n",
       "      <td>1</td>\n",
       "      <td>PRODUCE</td>\n",
       "    </tr>\n",
       "    <tr>\n",
       "      <th>3</th>\n",
       "      <td>8</td>\n",
       "      <td>9</td>\n",
       "      <td>Friday</td>\n",
       "      <td>1</td>\n",
       "      <td>PRODUCE</td>\n",
       "    </tr>\n",
       "    <tr>\n",
       "      <th>4</th>\n",
       "      <td>8</td>\n",
       "      <td>10</td>\n",
       "      <td>Friday</td>\n",
       "      <td>1</td>\n",
       "      <td>DSD GROCERY</td>\n",
       "    </tr>\n",
       "  </tbody>\n",
       "</table>\n",
       "</div>"
      ],
      "text/plain": [
       "   TripType  VisitNumber Weekday  ScanCount DepartmentDescription\n",
       "0       999            5  Friday         -1    FINANCIAL SERVICES\n",
       "1         8            9  Friday          1   IMPULSE MERCHANDISE\n",
       "2         8            9  Friday          1               PRODUCE\n",
       "3         8            9  Friday          1               PRODUCE\n",
       "4         8           10  Friday          1           DSD GROCERY"
      ]
     },
     "execution_count": 9,
     "metadata": {},
     "output_type": "execute_result"
    }
   ],
   "source": [
    "df.head()"
   ]
  },
  {
   "cell_type": "code",
   "execution_count": 10,
   "metadata": {
    "colab": {
     "base_uri": "https://localhost:8080/"
    },
    "executionInfo": {
     "elapsed": 862,
     "status": "ok",
     "timestamp": 1604024893715,
     "user": {
      "displayName": "Guillermo Coseani",
      "photoUrl": "https://lh3.googleusercontent.com/a-/AOh14Gis1OjGSp95ERLGAKced8Os_gWXYY1R8wLOwfmo4w=s64",
      "userId": "14650639631907223819"
     },
     "user_tz": 180
    },
    "id": "ZiuLWOmUMajh",
    "outputId": "489667e4-6c34-4e0e-812f-19b33af66bd0"
   },
   "outputs": [
    {
     "data": {
      "text/plain": [
       "array([999,   8,  35,  41,   6,   7,  39,  25,   9,  38,  15,  20,  37,\n",
       "        32,   5,   3,  40,  21,  31,  42,  24,  33,   4,  36,  18,  29,\n",
       "        27,  43,  30,  26,  19,  23,  22,  44,  34,  28,  14,  12],\n",
       "      dtype=int64)"
      ]
     },
     "execution_count": 10,
     "metadata": {},
     "output_type": "execute_result"
    }
   ],
   "source": [
    "df.TripType.unique()"
   ]
  },
  {
   "cell_type": "code",
   "execution_count": 11,
   "metadata": {
    "colab": {
     "base_uri": "https://localhost:8080/",
     "height": 387
    },
    "executionInfo": {
     "elapsed": 1043,
     "status": "ok",
     "timestamp": 1604024894678,
     "user": {
      "displayName": "Guillermo Coseani",
      "photoUrl": "https://lh3.googleusercontent.com/a-/AOh14Gis1OjGSp95ERLGAKced8Os_gWXYY1R8wLOwfmo4w=s64",
      "userId": "14650639631907223819"
     },
     "user_tz": 180
    },
    "id": "Iyr3UTcVMajj",
    "outputId": "7047c10d-4605-43c7-ec6d-06d3601512a0"
   },
   "outputs": [
    {
     "data": {
      "image/png": "[encoded data removed]",
      "text/plain": [
       "<Figure size 1080x432 with 1 Axes>"
      ]
     },
     "metadata": {
      "needs_background": "light"
     },
     "output_type": "display_data"
    }
   ],
   "source": [
    "import seaborn as sns\n",
    "plt.figure (figsize=(15,6))\n",
    "ax = sns.countplot(x=\"TripType\", data=df)"
   ]
  },
  {
   "cell_type": "code",
   "execution_count": 12,
   "metadata": {
    "colab": {
     "base_uri": "https://localhost:8080/",
     "height": 398
    },
    "executionInfo": {
     "elapsed": 3600,
     "status": "ok",
     "timestamp": 1604024897980,
     "user": {
      "displayName": "Guillermo Coseani",
      "photoUrl": "https://lh3.googleusercontent.com/a-/AOh14Gis1OjGSp95ERLGAKced8Os_gWXYY1R8wLOwfmo4w=s64",
      "userId": "14650639631907223819"
     },
     "user_tz": 180
    },
    "id": "uO7AaY3dMajm",
    "outputId": "e97efdf3-3e68-469a-810b-cd1ba3ef2cb1"
   },
   "outputs": [
    {
     "data": {
      "image/png": "[encoded data removed]",
      "text/plain": [
       "<Figure size 1080x432 with 1 Axes>"
      ]
     },
     "metadata": {
      "needs_background": "light"
     },
     "output_type": "display_data"
    }
   ],
   "source": [
    "plt.figure (figsize=(15,6))\n",
    "ax = sns.distplot(df.VisitNumber)\n"
   ]
  },
  {
   "cell_type": "code",
   "execution_count": 13,
   "metadata": {
    "colab": {
     "base_uri": "https://localhost:8080/"
    },
    "executionInfo": {
     "elapsed": 2328,
     "status": "ok",
     "timestamp": 1604024897982,
     "user": {
      "displayName": "Guillermo Coseani",
      "photoUrl": "https://lh3.googleusercontent.com/a-/AOh14Gis1OjGSp95ERLGAKced8Os_gWXYY1R8wLOwfmo4w=s64",
      "userId": "14650639631907223819"
     },
     "user_tz": 180
    },
    "id": "_xwQRvUSMajo",
    "outputId": "171650c5-705a-4d12-ddc7-378b04636f37"
   },
   "outputs": [
    {
     "data": {
      "text/plain": [
       "array([ -1,   1,   2,   3,   5,  14,   4,  -2,   9,   7,  10,   6,   8,\n",
       "        -3,  -5,  11,  16,  -4,  15,  30,  -6,  12,  20,  13,  19,  46,\n",
       "        23,  24,  -9,  51,  17,  18,  22,  71, -10,  25], dtype=int64)"
      ]
     },
     "execution_count": 13,
     "metadata": {},
     "output_type": "execute_result"
    }
   ],
   "source": [
    "df.ScanCount.unique()"
   ]
  },
  {
   "cell_type": "code",
   "execution_count": 14,
   "metadata": {
    "colab": {
     "base_uri": "https://localhost:8080/",
     "height": 387
    },
    "executionInfo": {
     "elapsed": 1206,
     "status": "ok",
     "timestamp": 1604024900166,
     "user": {
      "displayName": "Guillermo Coseani",
      "photoUrl": "https://lh3.googleusercontent.com/a-/AOh14Gis1OjGSp95ERLGAKced8Os_gWXYY1R8wLOwfmo4w=s64",
      "userId": "14650639631907223819"
     },
     "user_tz": 180
    },
    "id": "-yaryGhgMajq",
    "outputId": "1e8516b0-6e7c-4b52-eb56-118f3176b99b"
   },
   "outputs": [
    {
     "data": {
      "image/png": "[encoded data removed]",
      "text/plain": [
       "<Figure size 1080x432 with 1 Axes>"
      ]
     },
     "metadata": {
      "needs_background": "light"
     },
     "output_type": "display_data"
    }
   ],
   "source": [
    "import seaborn as sns\n",
    "plt.figure (figsize=(15,6))\n",
    "ax = sns.countplot(x=\"ScanCount\", data=df)"
   ]
  },
  {
   "cell_type": "code",
   "execution_count": 15,
   "metadata": {
    "colab": {
     "base_uri": "https://localhost:8080/"
    },
    "executionInfo": {
     "elapsed": 726,
     "status": "ok",
     "timestamp": 1604024901502,
     "user": {
      "displayName": "Guillermo Coseani",
      "photoUrl": "https://lh3.googleusercontent.com/a-/AOh14Gis1OjGSp95ERLGAKced8Os_gWXYY1R8wLOwfmo4w=s64",
      "userId": "14650639631907223819"
     },
     "user_tz": 180
    },
    "id": "JXALUf3XMajs",
    "outputId": "6a77905d-ba1b-46ff-cc0e-c86f10d24e18"
   },
   "outputs": [
    {
     "data": {
      "text/plain": [
       "array(['Friday', 'Saturday', 'Sunday', 'Monday', 'Tuesday', 'Wednesday',\n",
       "       'Thursday'], dtype=object)"
      ]
     },
     "execution_count": 15,
     "metadata": {},
     "output_type": "execute_result"
    }
   ],
   "source": [
    "df.Weekday.unique()"
   ]
  },
  {
   "cell_type": "code",
   "execution_count": 16,
   "metadata": {
    "colab": {
     "base_uri": "https://localhost:8080/",
     "height": 387
    },
    "executionInfo": {
     "elapsed": 1189,
     "status": "ok",
     "timestamp": 1604024903400,
     "user": {
      "displayName": "Guillermo Coseani",
      "photoUrl": "https://lh3.googleusercontent.com/a-/AOh14Gis1OjGSp95ERLGAKced8Os_gWXYY1R8wLOwfmo4w=s64",
      "userId": "14650639631907223819"
     },
     "user_tz": 180
    },
    "id": "KqmNYZf1Maju",
    "outputId": "a49f8870-4f0f-4d78-be6d-7df40cc8d6a4"
   },
   "outputs": [
    {
     "data": {
      "image/png": "[encoded data removed]",
      "text/plain": [
       "<Figure size 1080x432 with 1 Axes>"
      ]
     },
     "metadata": {
      "needs_background": "light"
     },
     "output_type": "display_data"
    }
   ],
   "source": [
    "\n",
    "plt.figure (figsize=(15,6))\n",
    "ax = sns.countplot(x=\"Weekday\", data=df)"
   ]
  },
  {
   "cell_type": "code",
   "execution_count": 17,
   "metadata": {
    "colab": {
     "base_uri": "https://localhost:8080/"
    },
    "executionInfo": {
     "elapsed": 845,
     "status": "ok",
     "timestamp": 1604024905068,
     "user": {
      "displayName": "Guillermo Coseani",
      "photoUrl": "https://lh3.googleusercontent.com/a-/AOh14Gis1OjGSp95ERLGAKced8Os_gWXYY1R8wLOwfmo4w=s64",
      "userId": "14650639631907223819"
     },
     "user_tz": 180
    },
    "id": "dlztmNdXMajw",
    "outputId": "d98beb65-45c8-4fbe-e732-97fb2f421629",
    "scrolled": true
   },
   "outputs": [
    {
     "data": {
      "text/plain": [
       "array(['FINANCIAL SERVICES', 'IMPULSE MERCHANDISE', 'PRODUCE',\n",
       "       'DSD GROCERY', 'CANDY, TOBACCO, COOKIES', 'GROCERY DRY GOODS',\n",
       "       'BOYS WEAR', 'PERSONAL CARE', 'HOUSEHOLD CHEMICALS/SUPP', 'SHOES',\n",
       "       'FROZEN FOODS', 'SERVICE DELI', 'DAIRY', 'COOK AND DINE',\n",
       "       'PHARMACY OTC', 'LADIESWEAR', 'COMM BREAD', 'BAKERY',\n",
       "       'PRE PACKED DELI', 'MENS WEAR', 'HOUSEHOLD PAPER GOODS',\n",
       "       'CELEBRATION', 'AUTOMOTIVE', 'BOOKS AND MAGAZINES', 'SEAFOOD',\n",
       "       'OFFICE SUPPLIES', 'HARDWARE', 'BEAUTY',\n",
       "       'INFANT CONSUMABLE HARDLINES', 'SHEER HOSIERY',\n",
       "       'MEAT - FRESH & FROZEN', 'HORTICULTURE AND ACCESS', 'WIRELESS',\n",
       "       'HOME DECOR', 'TOYS', 'FABRICS AND CRAFTS', 'HOME MANAGEMENT',\n",
       "       'LAWN AND GARDEN', 'LADIES SOCKS', 'INFANT APPAREL',\n",
       "       'PLUS AND MATERNITY', 'JEWELRY AND SUNGLASSES', 'ELECTRONICS',\n",
       "       'GIRLS WEAR, 4-6X  AND 7-14', 'BRAS & SHAPEWEAR',\n",
       "       'PETS AND SUPPLIES', 'LIQUOR,WINE,BEER', 'PAINT AND ACCESSORIES',\n",
       "       'SLEEPWEAR/FOUNDATIONS', 'SPORTING GOODS', 'BATH AND SHOWER', nan,\n",
       "       'PHARMACY RX', 'BEDDING', 'MENSWEAR', 'OTHER DEPARTMENTS',\n",
       "       'MEDIA AND GAMING', 'OPTICAL - FRAMES', 'PLAYERS AND ELECTRONICS',\n",
       "       'ACCESSORIES', 'FURNITURE', 'OPTICAL - LENSES', 'SEASONAL',\n",
       "       'CAMERAS AND SUPPLIES', 'LARGE HOUSEHOLD GOODS',\n",
       "       'SWIMWEAR/OUTERWEAR', '1-HR PHOTO', 'CONCEPT STORES',\n",
       "       'HEALTH AND BEAUTY AIDS'], dtype=object)"
      ]
     },
     "execution_count": 17,
     "metadata": {},
     "output_type": "execute_result"
    }
   ],
   "source": [
    "df.DepartmentDescription.unique()"
   ]
  },
  {
   "cell_type": "code",
   "execution_count": 18,
   "metadata": {
    "colab": {
     "base_uri": "https://localhost:8080/",
     "height": 545
    },
    "executionInfo": {
     "elapsed": 2624,
     "status": "ok",
     "timestamp": 1604024908571,
     "user": {
      "displayName": "Guillermo Coseani",
      "photoUrl": "https://lh3.googleusercontent.com/a-/AOh14Gis1OjGSp95ERLGAKced8Os_gWXYY1R8wLOwfmo4w=s64",
      "userId": "14650639631907223819"
     },
     "user_tz": 180
    },
    "id": "obnmLpJ4Majy",
    "outputId": "5421d460-375b-42a4-9215-be887bfe581e",
    "scrolled": true
   },
   "outputs": [
    {
     "data": {
      "image/png": "[encoded data removed]",
      "text/plain": [
       "<Figure size 1440x432 with 1 Axes>"
      ]
     },
     "metadata": {
      "needs_background": "light"
     },
     "output_type": "display_data"
    }
   ],
   "source": [
    "\n",
    "plt.figure (figsize=(20,6))\n",
    "ax = sns.countplot(x=\"DepartmentDescription\", data=df)\n",
    "plt.xticks(rotation=80)\n",
    "sns.despine()"
   ]
  },
  {
   "cell_type": "markdown",
   "metadata": {
    "id": "q3ZhC_ZBMaj1"
   },
   "source": [
    "**Veo el % que representa cada clase**"
   ]
  },
  {
   "cell_type": "code",
   "execution_count": 19,
   "metadata": {
    "colab": {
     "base_uri": "https://localhost:8080/",
     "height": 1000
    },
    "executionInfo": {
     "elapsed": 1039,
     "status": "ok",
     "timestamp": 1604024911128,
     "user": {
      "displayName": "Guillermo Coseani",
      "photoUrl": "https://lh3.googleusercontent.com/a-/AOh14Gis1OjGSp95ERLGAKced8Os_gWXYY1R8wLOwfmo4w=s64",
      "userId": "14650639631907223819"
     },
     "user_tz": 180
    },
    "id": "DKHZahXfMaj2",
    "outputId": "07f8d97b-17d2-449c-dc03-c67b8f2ef130"
   },
   "outputs": [
    {
     "name": "stdout",
     "output_type": "stream",
     "text": [
      "Class=37, n=12059 (2.660%)\n",
      "Class=5, n=15960 (3.520%)\n",
      "Class=27, n=8575 (1.891%)\n",
      "Class=33, n=3903 (0.861%)\n",
      "Class=3, n=2352 (0.519%)\n",
      "Class=4, n=16149 (3.562%)\n",
      "Class=31, n=67525 (14.893%)\n",
      "Class=17, n=19434 (4.286%)\n",
      "Class=6, n=11779 (2.598%)\n",
      "Class=30, n=20660 (4.557%)\n",
      "Class=9, n=5015 (1.106%)\n",
      "Class=12, n=2190 (0.483%)\n",
      "Class=29, n=27192 (5.997%)\n",
      "Class=24, n=9512 (2.098%)\n",
      "Class=2, n=9648 (2.128%)\n",
      "Class=0, n=4846 (1.069%)\n",
      "Class=32, n=121937 (26.893%)\n",
      "Class=13, n=3059 (0.675%)\n",
      "Class=23, n=1252 (0.276%)\n",
      "Class=34, n=13622 (3.004%)\n",
      "Class=16, n=12537 (2.765%)\n",
      "Class=25, n=6999 (1.544%)\n",
      "Class=1, n=627 (0.138%)\n",
      "Class=28, n=15879 (3.502%)\n",
      "Class=10, n=2040 (0.450%)\n",
      "Class=21, n=1490 (0.329%)\n",
      "Class=19, n=3263 (0.720%)\n",
      "Class=35, n=4543 (1.002%)\n",
      "Class=22, n=3469 (0.765%)\n",
      "Class=18, n=1749 (0.386%)\n",
      "Class=11, n=813 (0.179%)\n",
      "Class=15, n=234 (0.052%)\n",
      "Class=14, n=2486 (0.548%)\n",
      "Class=36, n=14048 (3.098%)\n",
      "Class=26, n=3289 (0.725%)\n",
      "Class=20, n=1815 (0.400%)\n",
      "Class=8, n=35 (0.008%)\n",
      "Class=7, n=1426 (0.315%)\n"
     ]
    },
    {
     "data": {
      "image/png": "[encoded data removed]",
      "text/plain": [
       "<Figure size 432x288 with 1 Axes>"
      ]
     },
     "metadata": {
      "needs_background": "light"
     },
     "output_type": "display_data"
    }
   ],
   "source": [
    "from collections import Counter\n",
    "from matplotlib import pyplot\n",
    "from sklearn.preprocessing import LabelEncoder\n",
    "y = df[['TripType']]\n",
    "# label encode the target variable\n",
    "y = LabelEncoder().fit_transform(y)\n",
    "# summarize distribution\n",
    "counter = Counter(y)\n",
    "for k,v in counter.items():\n",
    "    per = v / len(y) * 100\n",
    "    print('Class=%d, n=%d (%.3f%%)' % (k, v, per))\n",
    "# plot the distribution\n",
    "pyplot.bar(counter.keys(), counter.values())\n",
    "pyplot.show()"
   ]
  },
  {
   "cell_type": "markdown",
   "metadata": {
    "id": "Mlkz7J9qMaj4"
   },
   "source": [
    "### Conclusión: \n",
    "El dataset se encuentra desbalanceado como se puede observar. Existe categorías con muy pocos casos por lo que es importante \n",
    "al correr a los modelos no solamente observar el \"accuracy score\" sino también las diferentes medidas de clasificación \n",
    "y si predice correctamente todas las categorías o solamente algunas. Excluiré la clase 8 (Triptype=14) por tener apenas 35 casos"
   ]
  },
  {
   "cell_type": "code",
   "execution_count": 3,
   "metadata": {
    "executionInfo": {
     "elapsed": 5838,
     "status": "ok",
     "timestamp": 1604061418059,
     "user": {
      "displayName": "Guillermo Coseani",
      "photoUrl": "https://lh3.googleusercontent.com/a-/AOh14Gis1OjGSp95ERLGAKced8Os_gWXYY1R8wLOwfmo4w=s64",
      "userId": "14650639631907223819"
     },
     "user_tz": 180
    },
    "id": "HNP0qjMkMaj5"
   },
   "outputs": [],
   "source": [
    "\n",
    "def transform_data(train_data_fname, test_data_fname):\n",
    "    df_train = pd.read_csv(train_data_fname)\n",
    "    df_train['is_train_set'] = 1\n",
    "    df_test = pd.read_csv(test_data_fname)\n",
    "    df_test['is_train_set'] = 0\n",
    "\n",
    "    df_train = df_train[(df_train.FinelineNumber.isnull()==False) & (df_train.Upc.isnull()==False)]\n",
    "    df_test = df_test[(df_test.FinelineNumber.isnull()==False) & (df_test.Upc.isnull()==False)]\n",
    "\n",
    "    df_train = df_train[(df_train.TripType!=14)]\n",
    "\n",
    "    y = df_train.groupby([\"VisitNumber\", \"Weekday\"], as_index=False).max().TripType\n",
    "    \n",
    "\n",
    "    df_train = df_train.drop(\"TripType\", axis=1)\n",
    "    df = pd.concat([df_train, df_test])\n",
    "    \n",
    "    df = df[(df.FinelineNumber.isnull()==False) & (df.Upc.isnull()==False)]\n",
    "    \n",
    "    df = pd.get_dummies(df, columns=[\"DepartmentDescription\"], dummy_na=True)\n",
    "\n",
    "    df = df.groupby([\"VisitNumber\", \"Weekday\"], as_index=False).sum()\n",
    "    \n",
    "    df = pd.get_dummies(df, columns=[\"Weekday\"], dummy_na=True)\n",
    "\n",
    "    df_train = df[df.is_train_set != 0]\n",
    "    df_test = df[df.is_train_set == 0]\n",
    "    \n",
    "    X = df_train.drop([\"is_train_set\"], axis=1)\n",
    "    yy = None\n",
    "    XX = df_test.drop([\"is_train_set\"], axis=1)\n",
    "\n",
    "    return X, y, XX, yy"
   ]
  },
  {
   "cell_type": "code",
   "execution_count": 4,
   "metadata": {
    "executionInfo": {
     "elapsed": 19188,
     "status": "ok",
     "timestamp": 1604061431952,
     "user": {
      "displayName": "Guillermo Coseani",
      "photoUrl": "https://lh3.googleusercontent.com/a-/AOh14Gis1OjGSp95ERLGAKced8Os_gWXYY1R8wLOwfmo4w=s64",
      "userId": "14650639631907223819"
     },
     "user_tz": 180
    },
    "id": "_9ssZWsaMaj7"
   },
   "outputs": [],
   "source": [
    "X, y, XX, yy = transform_data(r'train.csv',\n",
    "                              r'test.csv')"
   ]
  },
  {
   "cell_type": "code",
   "execution_count": 5,
   "metadata": {
    "colab": {
     "base_uri": "https://localhost:8080/"
    },
    "executionInfo": {
     "elapsed": 18619,
     "status": "ok",
     "timestamp": 1604061431953,
     "user": {
      "displayName": "Guillermo Coseani",
      "photoUrl": "https://lh3.googleusercontent.com/a-/AOh14Gis1OjGSp95ERLGAKced8Os_gWXYY1R8wLOwfmo4w=s64",
      "userId": "14650639631907223819"
     },
     "user_tz": 180
    },
    "id": "bROdNA9OMaj8",
    "outputId": "bd5c8e44-4050-4fb5-aa8a-e0c1da06a89c",
    "scrolled": true
   },
   "outputs": [
    {
     "data": {
      "text/plain": [
       "((66073, 81), (66073,), (28170, 81))"
      ]
     },
     "execution_count": 5,
     "metadata": {},
     "output_type": "execute_result"
    }
   ],
   "source": [
    "X.shape, y.shape, XX.shape"
   ]
  },
  {
   "cell_type": "code",
   "execution_count": 6,
   "metadata": {
    "executionInfo": {
     "elapsed": 18100,
     "status": "ok",
     "timestamp": 1604061431954,
     "user": {
      "displayName": "Guillermo Coseani",
      "photoUrl": "https://lh3.googleusercontent.com/a-/AOh14Gis1OjGSp95ERLGAKced8Os_gWXYY1R8wLOwfmo4w=s64",
      "userId": "14650639631907223819"
     },
     "user_tz": 180
    },
    "id": "Zc7O5oEUMaj-"
   },
   "outputs": [],
   "source": [
    "# Divisiòn del dataset\n",
    "X_train, X_test, y_train, y_test = train_test_split(X, y, test_size=0.3, random_state=0)"
   ]
  },
  {
   "cell_type": "markdown",
   "metadata": {
    "id": "GJpAmoGpMakB"
   },
   "source": [
    "## Escenario base\n",
    "\n",
    "Se corren diferentes modelos con las configuraciones estándar para ver las accuracy que nos otorga cada uno y quedarnos como base line aquel modelo que no solamente realice mejor predicción sino además pueda predecir todas las categorías"
   ]
  },
  {
   "cell_type": "markdown",
   "metadata": {
    "id": "4-eKIEDzMakB"
   },
   "source": [
    "### Tree Decision"
   ]
  },
  {
   "cell_type": "code",
   "execution_count": 24,
   "metadata": {
    "colab": {
     "base_uri": "https://localhost:8080/"
    },
    "executionInfo": {
     "elapsed": 18214,
     "status": "ok",
     "timestamp": 1604061433693,
     "user": {
      "displayName": "Guillermo Coseani",
      "photoUrl": "https://lh3.googleusercontent.com/a-/AOh14Gis1OjGSp95ERLGAKced8Os_gWXYY1R8wLOwfmo4w=s64",
      "userId": "14650639631907223819"
     },
     "user_tz": 180
    },
    "id": "zqMgPSzoMakC",
    "outputId": "98651783-aed2-4686-b64d-a69a1f712519"
   },
   "outputs": [
    {
     "name": "stdout",
     "output_type": "stream",
     "text": [
      "0.5949954595903542\n",
      "             precision    recall  f1-score   support\n",
      "\n",
      "          3       0.97      0.96      0.96       798\n",
      "          4       0.44      0.45      0.45        69\n",
      "          5       0.61      0.66      0.63       686\n",
      "          6       0.73      0.71      0.72       268\n",
      "          7       0.55      0.59      0.57      1196\n",
      "          8       0.79      0.81      0.80      2513\n",
      "          9       0.70      0.69      0.70      1990\n",
      "         12       0.06      0.07      0.06        60\n",
      "         15       0.33      0.34      0.34       198\n",
      "         18       0.29      0.24      0.27       137\n",
      "         19       0.28      0.31      0.29        58\n",
      "         20       0.52      0.47      0.50       139\n",
      "         21       0.48      0.48      0.48       146\n",
      "         22       0.44      0.45      0.44       195\n",
      "         23       0.52      0.45      0.48        29\n",
      "         24       0.46      0.42      0.44       561\n",
      "         25       0.56      0.54      0.55       790\n",
      "         26       0.34      0.26      0.30       114\n",
      "         27       0.50      0.40      0.44       173\n",
      "         28       0.41      0.33      0.37        99\n",
      "         29       0.29      0.25      0.27       104\n",
      "         30       0.33      0.33      0.33       213\n",
      "         31       0.64      0.59      0.61       114\n",
      "         32       0.59      0.58      0.58       419\n",
      "         33       0.40      0.41      0.41       277\n",
      "         34       0.42      0.38      0.40       151\n",
      "         35       0.42      0.42      0.42       439\n",
      "         36       0.47      0.54      0.50       643\n",
      "         37       0.46      0.50      0.48       589\n",
      "         38       0.30      0.32      0.31       604\n",
      "         39       0.44      0.44      0.44      2122\n",
      "         40       0.76      0.75      0.75      1299\n",
      "         41       0.06      0.06      0.06       107\n",
      "         42       0.17      0.16      0.16       384\n",
      "         43       0.09      0.07      0.08       189\n",
      "         44       0.13      0.12      0.12       229\n",
      "        999       0.88      0.86      0.87      1720\n",
      "\n",
      "avg / total       0.59      0.59      0.59     19822\n",
      "\n"
     ]
    }
   ],
   "source": [
    "#ARBOL DE DECISIÓN\n",
    "from sklearn.tree import DecisionTreeClassifier\n",
    "tree = DecisionTreeClassifier()\n",
    "tree.fit(X_train, y_train)\n",
    "y_test_pred = tree.predict(X_test)\n",
    "print(accuracy_score(y_test, y_test_pred))\n",
    "print(classification_report(y_test,y_test_pred))"
   ]
  },
  {
   "cell_type": "code",
   "execution_count": 25,
   "metadata": {
    "colab": {
     "base_uri": "https://localhost:8080/"
    },
    "executionInfo": {
     "elapsed": 358,
     "status": "ok",
     "timestamp": 1604066584529,
     "user": {
      "displayName": "Guillermo Coseani",
      "photoUrl": "https://lh3.googleusercontent.com/a-/AOh14Gis1OjGSp95ERLGAKced8Os_gWXYY1R8wLOwfmo4w=s64",
      "userId": "14650639631907223819"
     },
     "user_tz": 180
    },
    "id": "Ye8G35yKMakH",
    "outputId": "a2a9f576-c8cc-4e8d-a60f-d29251c2ec01"
   },
   "outputs": [
    {
     "data": {
      "text/plain": [
       "GridSearchCV(cv=5, error_score='raise',\n",
       "       estimator=DecisionTreeClassifier(class_weight=None, criterion='gini', max_depth=None,\n",
       "            max_features=None, max_leaf_nodes=None,\n",
       "            min_impurity_decrease=0.0, min_impurity_split=None,\n",
       "            min_samples_leaf=1, min_samples_split=2,\n",
       "            min_weight_fraction_leaf=0.0, presort=False, random_state=None,\n",
       "            splitter='best'),\n",
       "       fit_params=None, iid=True, n_jobs=1,\n",
       "       param_grid=[{'min_samples_split': [2, 8, 16, 25], 'max_depth': [None, 2, 5, 10, 15], 'min_samples_leaf': [1, 5, 10, 15], 'max_leaf_nodes': [None, 5, 10, 20], 'criterion': ['gini', 'entropy'], 'class_weight': [None, 'balanced']}],\n",
       "       pre_dispatch='2*n_jobs', refit=True, return_train_score=True,\n",
       "       scoring='accuracy', verbose=0)"
      ]
     },
     "execution_count": 25,
     "metadata": {},
     "output_type": "execute_result"
    }
   ],
   "source": [
    "from sklearn.tree import DecisionTreeClassifier\n",
    "tree = DecisionTreeClassifier()\n",
    "param_grid = [{\"min_samples_split\": [2, 8, 16, 25], \n",
    "                \"max_depth\": [None, 2, 5, 10, 15],\n",
    "                \"min_samples_leaf\": [1, 5, 10, 15],\n",
    "                \"max_leaf_nodes\": [None, 5, 10, 20],\n",
    "              'criterion': [\"gini\", \"entropy\"],\n",
    "              'class_weight': [None, \"balanced\"] }]\n",
    "\n",
    "\n",
    "grid_search_tree = GridSearchCV(tree, param_grid=param_grid,cv=5, scoring='accuracy',return_train_score=True)\n",
    "grid_search_tree.fit(X_train, y_train)\n"
   ]
  },
  {
   "cell_type": "code",
   "execution_count": 26,
   "metadata": {
    "colab": {
     "base_uri": "https://localhost:8080/"
    },
    "executionInfo": {
     "elapsed": 4985234,
     "status": "ok",
     "timestamp": 1604066584532,
     "user": {
      "displayName": "Guillermo Coseani",
      "photoUrl": "https://lh3.googleusercontent.com/a-/AOh14Gis1OjGSp95ERLGAKced8Os_gWXYY1R8wLOwfmo4w=s64",
      "userId": "14650639631907223819"
     },
     "user_tz": 180
    },
    "id": "zkQAfnR-MakJ",
    "outputId": "fc7ac697-f24a-45b3-b0fc-8ba319e6fd52"
   },
   "outputs": [
    {
     "data": {
      "text/plain": [
       "DecisionTreeClassifier(class_weight=None, criterion='gini', max_depth=None,\n",
       "            max_features=None, max_leaf_nodes=None,\n",
       "            min_impurity_decrease=0.0, min_impurity_split=None,\n",
       "            min_samples_leaf=15, min_samples_split=8,\n",
       "            min_weight_fraction_leaf=0.0, presort=False, random_state=None,\n",
       "            splitter='best')"
      ]
     },
     "execution_count": 26,
     "metadata": {},
     "output_type": "execute_result"
    }
   ],
   "source": [
    "grid_search_tree.best_estimator_"
   ]
  },
  {
   "cell_type": "code",
   "execution_count": 27,
   "metadata": {
    "executionInfo": {
     "elapsed": 4984648,
     "status": "ok",
     "timestamp": 1604066584533,
     "user": {
      "displayName": "Guillermo Coseani",
      "photoUrl": "https://lh3.googleusercontent.com/a-/AOh14Gis1OjGSp95ERLGAKced8Os_gWXYY1R8wLOwfmo4w=s64",
      "userId": "14650639631907223819"
     },
     "user_tz": 180
    },
    "id": "WJW7KUc9MakL"
   },
   "outputs": [],
   "source": [
    "optimised_tree = grid_search_tree.best_estimator_\n",
    "y_test_pred = optimised_tree.predict(X_test)"
   ]
  },
  {
   "cell_type": "code",
   "execution_count": 28,
   "metadata": {
    "colab": {
     "base_uri": "https://localhost:8080/"
    },
    "executionInfo": {
     "elapsed": 4984028,
     "status": "ok",
     "timestamp": 1604066584534,
     "user": {
      "displayName": "Guillermo Coseani",
      "photoUrl": "https://lh3.googleusercontent.com/a-/AOh14Gis1OjGSp95ERLGAKced8Os_gWXYY1R8wLOwfmo4w=s64",
      "userId": "14650639631907223819"
     },
     "user_tz": 180
    },
    "id": "nSe79aYNMakN",
    "outputId": "38190406-a49b-4042-a7b8-07d128bd8c06"
   },
   "outputs": [
    {
     "name": "stdout",
     "output_type": "stream",
     "text": [
      "0.6359095953990516\n",
      "             precision    recall  f1-score   support\n",
      "\n",
      "          3       0.93      0.98      0.96       798\n",
      "          4       0.78      0.45      0.57        69\n",
      "          5       0.64      0.72      0.68       686\n",
      "          6       0.84      0.73      0.78       268\n",
      "          7       0.58      0.62      0.60      1196\n",
      "          8       0.77      0.84      0.80      2513\n",
      "          9       0.69      0.74      0.72      1990\n",
      "         12       0.00      0.00      0.00        60\n",
      "         15       0.41      0.29      0.34       198\n",
      "         18       0.46      0.26      0.33       137\n",
      "         19       0.31      0.38      0.34        58\n",
      "         20       0.58      0.50      0.54       139\n",
      "         21       0.59      0.51      0.55       146\n",
      "         22       0.61      0.35      0.44       195\n",
      "         23       0.80      0.28      0.41        29\n",
      "         24       0.54      0.40      0.46       561\n",
      "         25       0.58      0.61      0.60       790\n",
      "         26       0.34      0.21      0.26       114\n",
      "         27       0.51      0.45      0.48       173\n",
      "         28       0.45      0.34      0.39        99\n",
      "         29       0.35      0.26      0.30       104\n",
      "         30       0.40      0.27      0.32       213\n",
      "         31       0.72      0.62      0.67       114\n",
      "         32       0.62      0.64      0.63       419\n",
      "         33       0.53      0.39      0.45       277\n",
      "         34       0.64      0.40      0.49       151\n",
      "         35       0.52      0.54      0.53       439\n",
      "         36       0.53      0.58      0.56       643\n",
      "         37       0.51      0.53      0.52       589\n",
      "         38       0.43      0.32      0.36       604\n",
      "         39       0.44      0.59      0.50      2122\n",
      "         40       0.73      0.85      0.78      1299\n",
      "         41       0.08      0.04      0.05       107\n",
      "         42       0.19      0.12      0.15       384\n",
      "         43       0.07      0.01      0.02       189\n",
      "         44       0.21      0.09      0.12       229\n",
      "        999       0.97      0.84      0.90      1720\n",
      "\n",
      "avg / total       0.62      0.64      0.62     19822\n",
      "\n"
     ]
    }
   ],
   "source": [
    "print(accuracy_score(y_test, y_test_pred))\n",
    "print(classification_report(y_test, y_test_pred))"
   ]
  },
  {
   "cell_type": "markdown",
   "metadata": {
    "id": "NepUfhqHMakO"
   },
   "source": [
    "### Random Forrest"
   ]
  },
  {
   "cell_type": "code",
   "execution_count": 29,
   "metadata": {
    "colab": {
     "base_uri": "https://localhost:8080/"
    },
    "executionInfo": {
     "elapsed": 5001636,
     "status": "ok",
     "timestamp": 1604066603937,
     "user": {
      "displayName": "Guillermo Coseani",
      "photoUrl": "https://lh3.googleusercontent.com/a-/AOh14Gis1OjGSp95ERLGAKced8Os_gWXYY1R8wLOwfmo4w=s64",
      "userId": "14650639631907223819"
     },
     "user_tz": 180
    },
    "id": "fGrEy43eMakP",
    "outputId": "c36eb543-c59e-419f-94eb-7a7e0095a4e7"
   },
   "outputs": [
    {
     "name": "stderr",
     "output_type": "stream",
     "text": [
      "C:\\ProgramData\\Anaconda3\\lib\\site-packages\\sklearn\\ensemble\\weight_boosting.py:29: DeprecationWarning: numpy.core.umath_tests is an internal NumPy module and should not be imported. It will be removed in a future NumPy release.\n",
      "  from numpy.core.umath_tests import inner1d\n"
     ]
    },
    {
     "name": "stdout",
     "output_type": "stream",
     "text": [
      "0.6602260115023711\n",
      "             precision    recall  f1-score   support\n",
      "\n",
      "          3       0.94      0.98      0.96       798\n",
      "          4       0.74      0.41      0.52        69\n",
      "          5       0.62      0.74      0.67       686\n",
      "          6       0.80      0.76      0.78       268\n",
      "          7       0.59      0.70      0.64      1196\n",
      "          8       0.79      0.87      0.83      2513\n",
      "          9       0.71      0.79      0.75      1990\n",
      "         12       0.12      0.05      0.07        60\n",
      "         15       0.45      0.37      0.41       198\n",
      "         18       0.47      0.27      0.34       137\n",
      "         19       0.47      0.38      0.42        58\n",
      "         20       0.62      0.50      0.55       139\n",
      "         21       0.59      0.56      0.57       146\n",
      "         22       0.59      0.41      0.48       195\n",
      "         23       0.89      0.28      0.42        29\n",
      "         24       0.54      0.47      0.50       561\n",
      "         25       0.57      0.66      0.61       790\n",
      "         26       0.47      0.26      0.34       114\n",
      "         27       0.66      0.47      0.55       173\n",
      "         28       0.57      0.32      0.41        99\n",
      "         29       0.39      0.18      0.25       104\n",
      "         30       0.47      0.29      0.36       213\n",
      "         31       0.75      0.60      0.66       114\n",
      "         32       0.66      0.64      0.65       419\n",
      "         33       0.55      0.51      0.53       277\n",
      "         34       0.63      0.47      0.54       151\n",
      "         35       0.56      0.54      0.55       439\n",
      "         36       0.54      0.63      0.58       643\n",
      "         37       0.49      0.48      0.48       589\n",
      "         38       0.43      0.34      0.38       604\n",
      "         39       0.50      0.60      0.54      2122\n",
      "         40       0.73      0.87      0.80      1299\n",
      "         41       0.17      0.04      0.06       107\n",
      "         42       0.24      0.09      0.13       384\n",
      "         43       0.07      0.01      0.01       189\n",
      "         44       0.28      0.04      0.07       229\n",
      "        999       0.97      0.84      0.90      1720\n",
      "\n",
      "avg / total       0.64      0.66      0.64     19822\n",
      "\n"
     ]
    }
   ],
   "source": [
    "# entrenar el modelo en esta celda\n",
    "from sklearn.ensemble import RandomForestClassifier\n",
    "rf = RandomForestClassifier(random_state=0)\n",
    "rf.fit(X_train, y_train)\n",
    "y_test_pred = rf.predict(X_test)\n",
    "print(accuracy_score(y_test, y_test_pred))\n",
    "print(classification_report(y_test, y_test_pred))"
   ]
  },
  {
   "cell_type": "code",
   "execution_count": 37,
   "metadata": {
    "id": "FAta-PawMakR"
   },
   "outputs": [
    {
     "data": {
      "text/plain": [
       "GridSearchCV(cv=5, error_score='raise',\n",
       "       estimator=RandomForestClassifier(bootstrap=True, class_weight='balanced',\n",
       "            criterion='gini', max_depth=None, max_features='auto',\n",
       "            max_leaf_nodes=None, min_impurity_decrease=0.0,\n",
       "            min_impurity_split=None, min_samples_leaf=1,\n",
       "            min_samples_split=2, min_weight_fraction_leaf=0.0,\n",
       "            n_estimators=10, n_jobs=1, oob_score=False, random_state=0,\n",
       "            verbose=0, warm_start=False),\n",
       "       fit_params=None, iid=True, n_jobs=1,\n",
       "       param_grid=[{'n_estimators': [100, 200, 300, 400, 500, 750, 1000]}],\n",
       "       pre_dispatch='2*n_jobs', refit=True, return_train_score=True,\n",
       "       scoring='accuracy', verbose=0)"
      ]
     },
     "execution_count": 37,
     "metadata": {},
     "output_type": "execute_result"
    }
   ],
   "source": [
    "param_grid = [{'n_estimators': [100, 200, 300, 400, 500, 750, 1000]}]\n",
    "\n",
    "rf = RandomForestClassifier(class_weight='balanced',\n",
    "                                   criterion='gini',\n",
    "                            random_state=0, max_depth = None)\n",
    "\n",
    "\n",
    "grid_search_rf = GridSearchCV(rf,\n",
    "                                 param_grid=param_grid,cv=5, \n",
    "                                scoring='accuracy',\n",
    "                                return_train_score=True)\n",
    "grid_search_rf.fit(X_train, y_train)"
   ]
  },
  {
   "cell_type": "code",
   "execution_count": 38,
   "metadata": {
    "id": "uscIA-vDMakX"
   },
   "outputs": [
    {
     "data": {
      "text/plain": [
       "RandomForestClassifier(bootstrap=True, class_weight='balanced',\n",
       "            criterion='gini', max_depth=None, max_features='auto',\n",
       "            max_leaf_nodes=None, min_impurity_decrease=0.0,\n",
       "            min_impurity_split=None, min_samples_leaf=1,\n",
       "            min_samples_split=2, min_weight_fraction_leaf=0.0,\n",
       "            n_estimators=1000, n_jobs=1, oob_score=False, random_state=0,\n",
       "            verbose=0, warm_start=False)"
      ]
     },
     "execution_count": 38,
     "metadata": {},
     "output_type": "execute_result"
    }
   ],
   "source": [
    "grid_search_rf.best_estimator_"
   ]
  },
  {
   "cell_type": "code",
   "execution_count": 39,
   "metadata": {
    "id": "kC7C1UmzMakZ"
   },
   "outputs": [],
   "source": [
    "optimised_rf = grid_search_rf.best_estimator_\n",
    "y_test_pred = optimised_rf.predict(X_test)"
   ]
  },
  {
   "cell_type": "code",
   "execution_count": 40,
   "metadata": {
    "id": "mOQFW85VMaka"
   },
   "outputs": [
    {
     "name": "stdout",
     "output_type": "stream",
     "text": [
      "0.6955403087478559\n",
      "             precision    recall  f1-score   support\n",
      "\n",
      "          3       0.97      0.97      0.97       798\n",
      "          4       0.93      0.39      0.55        69\n",
      "          5       0.66      0.78      0.72       686\n",
      "          6       0.85      0.77      0.81       268\n",
      "          7       0.75      0.65      0.70      1196\n",
      "          8       0.83      0.88      0.85      2513\n",
      "          9       0.73      0.83      0.77      1990\n",
      "         12       0.40      0.13      0.20        60\n",
      "         15       0.50      0.38      0.43       198\n",
      "         18       0.45      0.40      0.43       137\n",
      "         19       0.44      0.47      0.45        58\n",
      "         20       0.55      0.67      0.61       139\n",
      "         21       0.60      0.66      0.63       146\n",
      "         22       0.51      0.56      0.54       195\n",
      "         23       0.80      0.41      0.55        29\n",
      "         24       0.71      0.46      0.56       561\n",
      "         25       0.68      0.68      0.68       790\n",
      "         26       0.42      0.46      0.44       114\n",
      "         27       0.59      0.66      0.62       173\n",
      "         28       0.45      0.52      0.48        99\n",
      "         29       0.46      0.22      0.30       104\n",
      "         30       0.45      0.42      0.43       213\n",
      "         31       0.65      0.82      0.72       114\n",
      "         32       0.64      0.75      0.69       419\n",
      "         33       0.65      0.49      0.56       277\n",
      "         34       0.59      0.59      0.59       151\n",
      "         35       0.66      0.55      0.60       439\n",
      "         36       0.62      0.60      0.61       643\n",
      "         37       0.60      0.50      0.55       589\n",
      "         38       0.57      0.30      0.40       604\n",
      "         39       0.50      0.73      0.59      2122\n",
      "         40       0.73      0.92      0.81      1299\n",
      "         41       0.30      0.03      0.05       107\n",
      "         42       0.37      0.17      0.23       384\n",
      "         43       0.00      0.00      0.00       189\n",
      "         44       0.47      0.03      0.06       229\n",
      "        999       0.98      0.84      0.91      1720\n",
      "\n",
      "avg / total       0.69      0.70      0.68     19822\n",
      "\n"
     ]
    }
   ],
   "source": [
    "print(accuracy_score(y_test, y_test_pred))\n",
    "print(classification_report(y_test, y_test_pred))"
   ]
  },
  {
   "cell_type": "markdown",
   "metadata": {
    "id": "GgxRLb3gMakc"
   },
   "source": [
    "### SGD"
   ]
  },
  {
   "cell_type": "code",
   "execution_count": 9,
   "metadata": {
    "executionInfo": {
     "elapsed": 1151,
     "status": "aborted",
     "timestamp": 1604057820065,
     "user": {
      "displayName": "Guillermo Coseani",
      "photoUrl": "https://lh3.googleusercontent.com/a-/AOh14Gis1OjGSp95ERLGAKced8Os_gWXYY1R8wLOwfmo4w=s64",
      "userId": "14650639631907223819"
     },
     "user_tz": 180
    },
    "id": "G8pD-F8oMakc"
   },
   "outputs": [
    {
     "name": "stderr",
     "output_type": "stream",
     "text": [
      "C:\\ProgramData\\Anaconda3\\lib\\site-packages\\sklearn\\ensemble\\weight_boosting.py:29: DeprecationWarning: numpy.core.umath_tests is an internal NumPy module and should not be imported. It will be removed in a future NumPy release.\n",
      "  from numpy.core.umath_tests import inner1d\n"
     ]
    },
    {
     "name": "stdout",
     "output_type": "stream",
     "text": [
      "0.7012914942992634\n",
      "             precision    recall  f1-score   support\n",
      "\n",
      "          3       0.95      0.98      0.96       798\n",
      "          4       0.80      0.48      0.60        69\n",
      "          5       0.68      0.78      0.72       686\n",
      "          6       0.78      0.78      0.78       268\n",
      "          7       0.68      0.67      0.67      1196\n",
      "          8       0.79      0.87      0.83      2513\n",
      "          9       0.73      0.78      0.75      1990\n",
      "         12       0.32      0.20      0.25        60\n",
      "         15       0.55      0.37      0.44       198\n",
      "         18       0.52      0.36      0.43       137\n",
      "         19       0.56      0.50      0.53        58\n",
      "         20       0.58      0.64      0.61       139\n",
      "         21       0.64      0.69      0.66       146\n",
      "         22       0.51      0.52      0.52       195\n",
      "         23       0.75      0.62      0.68        29\n",
      "         24       0.63      0.63      0.63       561\n",
      "         25       0.69      0.75      0.72       790\n",
      "         26       0.49      0.48      0.48       114\n",
      "         27       0.65      0.61      0.63       173\n",
      "         28       0.48      0.43      0.46        99\n",
      "         29       0.47      0.30      0.36       104\n",
      "         30       0.50      0.48      0.49       213\n",
      "         31       0.66      0.81      0.72       114\n",
      "         32       0.66      0.73      0.69       419\n",
      "         33       0.60      0.53      0.56       277\n",
      "         34       0.61      0.59      0.60       151\n",
      "         35       0.64      0.57      0.61       439\n",
      "         36       0.62      0.66      0.64       643\n",
      "         37       0.60      0.57      0.59       589\n",
      "         38       0.54      0.40      0.46       604\n",
      "         39       0.56      0.67      0.61      2122\n",
      "         40       0.78      0.91      0.84      1299\n",
      "         41       0.21      0.08      0.12       107\n",
      "         42       0.44      0.22      0.29       384\n",
      "         43       0.10      0.01      0.02       189\n",
      "         44       0.28      0.12      0.17       229\n",
      "        999       0.99      0.83      0.90      1720\n",
      "\n",
      "avg / total       0.69      0.70      0.69     19822\n",
      "\n"
     ]
    }
   ],
   "source": [
    "from sklearn.ensemble import GradientBoostingClassifier\n",
    "sgd = GradientBoostingClassifier(random_state=0)\n",
    "sgd.fit(X_train, y_train)\n",
    "y_test_pred = sgd.predict(X_test)\n",
    "print(accuracy_score(y_test, y_test_pred))\n",
    "print(classification_report(y_test, y_test_pred))"
   ]
  },
  {
   "cell_type": "markdown",
   "metadata": {
    "id": "K_7G4HP4Makk"
   },
   "source": [
    "### XGBOOST"
   ]
  },
  {
   "cell_type": "code",
   "execution_count": 8,
   "metadata": {
    "id": "qtAnGCVqMakl"
   },
   "outputs": [
    {
     "name": "stdout",
     "output_type": "stream",
     "text": [
      "0.7076480678034507\n",
      "              precision    recall  f1-score   support\n",
      "\n",
      "           3       0.96      0.98      0.97       798\n",
      "           4       0.79      0.43      0.56        69\n",
      "           5       0.69      0.75      0.72       686\n",
      "           6       0.82      0.77      0.80       268\n",
      "           7       0.73      0.70      0.72      1196\n",
      "           8       0.83      0.88      0.86      2513\n",
      "           9       0.74      0.82      0.78      1990\n",
      "          12       0.39      0.18      0.25        60\n",
      "          15       0.65      0.42      0.51       198\n",
      "          18       0.47      0.34      0.39       137\n",
      "          19       0.52      0.59      0.55        58\n",
      "          20       0.55      0.57      0.56       139\n",
      "          21       0.63      0.62      0.63       146\n",
      "          22       0.57      0.53      0.55       195\n",
      "          23       0.76      0.55      0.64        29\n",
      "          24       0.62      0.60      0.61       561\n",
      "          25       0.69      0.77      0.73       790\n",
      "          26       0.47      0.39      0.43       114\n",
      "          27       0.65      0.61      0.63       173\n",
      "          28       0.47      0.46      0.47        99\n",
      "          29       0.51      0.27      0.35       104\n",
      "          30       0.49      0.53      0.51       213\n",
      "          31       0.67      0.74      0.70       114\n",
      "          32       0.68      0.69      0.69       419\n",
      "          33       0.60      0.55      0.57       277\n",
      "          34       0.53      0.52      0.53       151\n",
      "          35       0.62      0.56      0.59       439\n",
      "          36       0.63      0.64      0.63       643\n",
      "          37       0.60      0.59      0.60       589\n",
      "          38       0.55      0.40      0.46       604\n",
      "          39       0.56      0.69      0.62      2122\n",
      "          40       0.78      0.89      0.83      1299\n",
      "          41       0.17      0.07      0.10       107\n",
      "          42       0.32      0.23      0.27       384\n",
      "          43       0.18      0.04      0.06       189\n",
      "          44       0.29      0.17      0.21       229\n",
      "         999       0.98      0.84      0.91      1720\n",
      "\n",
      "    accuracy                           0.71     19822\n",
      "   macro avg       0.60      0.55      0.57     19822\n",
      "weighted avg       0.70      0.71      0.70     19822\n",
      "\n"
     ]
    }
   ],
   "source": [
    "from xgboost.sklearn import XGBClassifier\n",
    "xgb = XGBClassifier()\n",
    "xgb.fit(X_train,y_train)\n",
    "y_test_pred = xgb.predict(X_test)\n",
    "print(accuracy_score(y_test, y_test_pred))\n",
    "print(classification_report(y_test, y_test_pred))"
   ]
  },
  {
   "cell_type": "markdown",
   "metadata": {
    "id": "iJ7QcP7iMakq"
   },
   "source": [
    "### Bagging Classifier"
   ]
  },
  {
   "cell_type": "code",
   "execution_count": 8,
   "metadata": {
    "id": "IIfWWDZ0Mak1",
    "outputId": "b5563e09-1615-4aa6-aaac-ff01064ba6d4",
    "scrolled": true
   },
   "outputs": [
    {
     "name": "stdout",
     "output_type": "stream",
     "text": [
      "0.7166784380990818\n",
      "              precision    recall  f1-score   support\n",
      "\n",
      "           3       0.96      0.98      0.97       798\n",
      "           4       0.89      0.45      0.60        69\n",
      "           5       0.68      0.77      0.72       686\n",
      "           6       0.83      0.78      0.80       268\n",
      "           7       0.73      0.72      0.72      1196\n",
      "           8       0.84      0.88      0.86      2513\n",
      "           9       0.74      0.84      0.79      1990\n",
      "          12       0.42      0.18      0.26        60\n",
      "          15       0.69      0.42      0.53       198\n",
      "          18       0.52      0.33      0.40       137\n",
      "          19       0.55      0.53      0.54        58\n",
      "          20       0.55      0.59      0.57       139\n",
      "          21       0.63      0.66      0.64       146\n",
      "          22       0.55      0.50      0.52       195\n",
      "          23       0.86      0.66      0.75        29\n",
      "          24       0.63      0.63      0.63       561\n",
      "          25       0.69      0.78      0.74       790\n",
      "          26       0.44      0.39      0.42       114\n",
      "          27       0.65      0.62      0.64       173\n",
      "          28       0.54      0.47      0.51        99\n",
      "          29       0.54      0.24      0.33       104\n",
      "          30       0.50      0.47      0.49       213\n",
      "          31       0.67      0.75      0.71       114\n",
      "          32       0.68      0.69      0.68       419\n",
      "          33       0.66      0.55      0.60       277\n",
      "          34       0.61      0.53      0.57       151\n",
      "          35       0.66      0.58      0.61       439\n",
      "          36       0.64      0.65      0.64       643\n",
      "          37       0.63      0.61      0.62       589\n",
      "          38       0.59      0.38      0.46       604\n",
      "          39       0.55      0.71      0.62      2122\n",
      "          40       0.78      0.91      0.84      1299\n",
      "          41       0.26      0.07      0.10       107\n",
      "          42       0.39      0.25      0.30       384\n",
      "          43       0.24      0.02      0.04       189\n",
      "          44       0.23      0.10      0.14       229\n",
      "         999       0.99      0.84      0.91      1720\n",
      "\n",
      "    accuracy                           0.72     19822\n",
      "   macro avg       0.62      0.56      0.57     19822\n",
      "weighted avg       0.71      0.72      0.71     19822\n",
      "\n"
     ]
    }
   ],
   "source": [
    "bagging_xgb = BaggingClassifier(base_estimator= XGBClassifier())\n",
    "bagging_xgb.fit(X_train, y_train)\n",
    "y_test_pred = bagging_xgb.predict(X_test)\n",
    "print(accuracy_score(y_test, y_test_pred))\n",
    "print(classification_report(y_test, y_test_pred))"
   ]
  },
  {
   "cell_type": "markdown",
   "metadata": {},
   "source": [
    "### Conclusión"
   ]
  },
  {
   "cell_type": "markdown",
   "metadata": {},
   "source": [
    "    Luego de la exploración de modelos desde los más básicos hasta los más sofistificados el modelo que mejor resultado dió es el XGBOOST usando el ensambling de BaggingClassifier en sus configuraciones básicas ya que el grid search toma demasiado tiempo y no están garantizadas mejoras o en su defecto las mejoras resultarán marginales.  El resultado final es un accuracy de 0.7166 que es superior al modelo XGBOOST simple que se corrió"
   ]
  },
  {
   "cell_type": "code",
   "execution_count": 9,
   "metadata": {},
   "outputs": [
    {
     "data": {
      "text/plain": [
       "((66073, 81), (28170, 81))"
      ]
     },
     "execution_count": 9,
     "metadata": {},
     "output_type": "execute_result"
    }
   ],
   "source": [
    "# Realizamos predicciones para el set de Evaluación\n",
    "X.shape, XX.shape"
   ]
  },
  {
   "cell_type": "code",
   "execution_count": 12,
   "metadata": {},
   "outputs": [],
   "source": [
    "yy = bagging_xgb.predict(XX)"
   ]
  },
  {
   "cell_type": "code",
   "execution_count": 13,
   "metadata": {},
   "outputs": [],
   "source": [
    "submission = pd.DataFrame(list(zip(XX.VisitNumber, yy)), columns=[\"VisitNumber\", \"TripType\"])"
   ]
  },
  {
   "cell_type": "code",
   "execution_count": 15,
   "metadata": {},
   "outputs": [],
   "source": [
    "submission.to_csv(\"submission_bagging_XBOOST.csv\", header=True, index=False)"
   ]
  },
  {
   "cell_type": "code",
   "execution_count": null,
   "metadata": {},
   "outputs": [],
   "source": []
  }
 ],
 "metadata": {
  "colab": {
   "collapsed_sections": [
    "Mlkz7J9qMaj4",
    "4-eKIEDzMakB",
    "NepUfhqHMakO",
    "GgxRLb3gMakc",
    "K_7G4HP4Makk",
    "iJ7QcP7iMakq"
   ],
   "name": "Competencia Kaggle - Guillermo Coseani.ipynb",
   "provenance": []
  },
  "kernelspec": {
   "display_name": "Python 3",
   "language": "python",
   "name": "python3"
  },
  "language_info": {
   "codemirror_mode": {
    "name": "ipython",
    "version": 3
   },
   "file_extension": ".py",
   "mimetype": "text/x-python",
   "name": "python",
   "nbconvert_exporter": "python",
   "pygments_lexer": "ipython3",
   "version": "3.7.6"
  }
 },
 "nbformat": 4,
 "nbformat_minor": 2
}
